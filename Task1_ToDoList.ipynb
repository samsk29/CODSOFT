{
 "cells": [
  {
   "cell_type": "markdown",
   "id": "e62516b1",
   "metadata": {},
   "source": [
    "# Task1: To do list"
   ]
  },
  {
   "cell_type": "code",
   "execution_count": 1,
   "id": "bc02bc4f",
   "metadata": {},
   "outputs": [],
   "source": [
    "import tkinter as tk\n",
    "\n",
    "root = tk.Tk()\n",
    "root.title(\"To do list\")\n",
    "\n",
    "frame = tk.Frame(root)\n",
    "frame.pack(padx=15,pady=15)\n",
    "for i in range(4):\n",
    "    frame.rowconfigure(i, pad=10)\n",
    "def add():\n",
    "    task = enter.get()\n",
    "    if task:\n",
    "        listbox.insert(tk.END,task)\n",
    "        enter.delete(0,tk.END)\n",
    "def remove():\n",
    "    select = listbox.curselection()\n",
    "    if select:\n",
    "        listbox.delete(select)\n",
    "enter = tk.Entry(frame,width=50)\n",
    "enter.grid(row=0,column=0)\n",
    "\n",
    "add_b = tk.Button(frame,text=\"Add task\",command=add)\n",
    "add_b.grid(row=1,column=0)\n",
    "\n",
    "listbox = tk.Listbox(frame,selectmode=tk.SINGLE,width=30,height=8)\n",
    "listbox.grid(row=2,column=0)\n",
    "\n",
    "label = tk.Label(frame, text=\"Select any task for remove\")\n",
    "label.grid(row=3,column=0)\n",
    "\n",
    "remove_b = tk.Button(frame,text=\"remove task\",command=remove)\n",
    "remove_b.grid(row=4,column=0)\n",
    "\n",
    "root.mainloop()"
   ]
  },
  {
   "cell_type": "code",
   "execution_count": null,
   "id": "54b35431",
   "metadata": {},
   "outputs": [],
   "source": []
  }
 ],
 "metadata": {
  "kernelspec": {
   "display_name": "Python 3 (ipykernel)",
   "language": "python",
   "name": "python3"
  },
  "language_info": {
   "codemirror_mode": {
    "name": "ipython",
    "version": 3
   },
   "file_extension": ".py",
   "mimetype": "text/x-python",
   "name": "python",
   "nbconvert_exporter": "python",
   "pygments_lexer": "ipython3",
   "version": "3.9.12"
  }
 },
 "nbformat": 4,
 "nbformat_minor": 5
}
