{
 "cells": [
  {
   "cell_type": "markdown",
   "id": "3cfe3c82",
   "metadata": {},
   "source": [
    "# Task3:Password Generator"
   ]
  },
  {
   "cell_type": "code",
   "execution_count": 1,
   "id": "9974daba",
   "metadata": {},
   "outputs": [],
   "source": [
    "import tkinter as tk\n",
    "import random\n",
    "\n",
    "root = tk.Tk()\n",
    "root.title(\"Password Generator\")\n",
    "\n",
    "frame = tk.Frame(root)\n",
    "frame.pack(padx=20, pady=20)\n",
    "for i in range(4):\n",
    "    frame.rowconfigure(i, pad=15)\n",
    "    \n",
    "def generate():\n",
    "    length = int(length_enter.get())\n",
    "    password = \"\"\n",
    "    for i in range(length):\n",
    "        x = random.randint(33, 122)\n",
    "        password += chr(x)\n",
    "    password_e.delete(0, tk.END)\n",
    "    password_e.insert(0, password)\n",
    "def reset():\n",
    "    length_enter.delete(0,tk.END)\n",
    "    password_e.delete(0, tk.END)\n",
    "    \n",
    "name_t = tk.Label(frame, text=\"Enter your name: \")\n",
    "name_t.grid(row=0, column=0)\n",
    "\n",
    "name = tk.Entry(frame,width=40)\n",
    "name.grid(row=0, column=1)\n",
    "\n",
    "length_t = tk.Label(frame, text=\"Enter the length of your password: \")\n",
    "length_t.grid(row=1, column=0)\n",
    "\n",
    "length_enter = tk.Entry(frame,width=40)\n",
    "length_enter.grid(row=1, column=1)\n",
    "\n",
    "password_t = tk.Label(frame, text=\"Password: \")\n",
    "password_t.grid(row=2, column=0)\n",
    "\n",
    "password_e = tk.Entry(frame,width=40)\n",
    "password_e.grid(row=2, column=1)\n",
    "\n",
    "password_b = tk.Button(frame, text=\"Generate\", command=generate)\n",
    "password_b.grid(row=3,columnspan=2)\n",
    "\n",
    "reset_b = tk.Button(frame,text=\"reset\",command=reset)\n",
    "reset_b.grid(row=4,columnspan=2)\n",
    "\n",
    "root.mainloop()"
   ]
  },
  {
   "cell_type": "code",
   "execution_count": null,
   "id": "cf150b86",
   "metadata": {},
   "outputs": [],
   "source": []
  }
 ],
 "metadata": {
  "kernelspec": {
   "display_name": "Python 3 (ipykernel)",
   "language": "python",
   "name": "python3"
  },
  "language_info": {
   "codemirror_mode": {
    "name": "ipython",
    "version": 3
   },
   "file_extension": ".py",
   "mimetype": "text/x-python",
   "name": "python",
   "nbconvert_exporter": "python",
   "pygments_lexer": "ipython3",
   "version": "3.9.12"
  }
 },
 "nbformat": 4,
 "nbformat_minor": 5
}
